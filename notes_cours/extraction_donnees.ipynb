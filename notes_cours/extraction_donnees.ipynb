{
 "cells": [
  {
   "cell_type": "markdown",
   "metadata": {},
   "source": [
    "Cours 3 page 4 diapo 11\n",
    "\n",
    "1. Ouvrir son corpus avec pandas\n",
    "2. Convertir son corpus au format Dataset\n",
    "    * Avec les colonnes de sont corpus de référence\n",
    "        -> c.a.d. ajouter des colonnes quand il y a en a besoin etc.\n",
    "\n",
    "Pour avancer sur la séance suivante :\n",
    "-> Lancer l'annotation morphosyntaxique des données textuelles avec votre annotateur préféré (SpaCy si vous savez pas)\n"
   ]
  },
  {
   "cell_type": "code",
   "execution_count": null,
   "metadata": {},
   "outputs": [],
   "source": []
  }
 ],
 "metadata": {
  "language_info": {
   "name": "python"
  }
 },
 "nbformat": 4,
 "nbformat_minor": 2
}
